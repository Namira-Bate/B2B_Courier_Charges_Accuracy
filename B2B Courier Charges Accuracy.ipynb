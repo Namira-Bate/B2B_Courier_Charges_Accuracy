{
 "cells": [
  {
   "cell_type": "code",
   "execution_count": 1,
   "id": "d860eddb",
   "metadata": {},
   "outputs": [],
   "source": [
    "import pandas as pd "
   ]
  },
  {
   "cell_type": "code",
   "execution_count": 2,
   "id": "b2ca682f",
   "metadata": {},
   "outputs": [],
   "source": [
    "order_report = pd.read_csv(\"Order Report.csv\")\n",
    "sku_master = pd.read_csv(\"SKU Master.csv\")\n",
    "pincode_mapping = pd.read_csv(\"pincodes.csv\")\n",
    "courier_invoice = pd.read_csv('Invoice.csv')\n",
    "courier_company_rates = pd.read_csv('Courier Company - Rates.csv')\n"
   ]
  },
  {
   "cell_type": "code",
   "execution_count": 4,
   "id": "07cde870",
   "metadata": {},
   "outputs": [
    {
     "name": "stdout",
     "output_type": "stream",
     "text": [
      "Order Report:\n",
      "   ExternOrderNo            SKU  Order Qty  Unnamed: 3  Unnamed: 4\n",
      "0     2001827036  8904223818706        1.0         NaN         NaN\n",
      "1     2001827036  8904223819093        1.0         NaN         NaN\n",
      "2     2001827036  8904223819109        1.0         NaN         NaN\n",
      "3     2001827036  8904223818430        1.0         NaN         NaN\n",
      "4     2001827036  8904223819277        1.0         NaN         NaN\n",
      "\n",
      "SKU Master : \n",
      "             SKU  Weight (g)  Unnamed: 2  Unnamed: 3  Unnamed: 4\n",
      "0  8904223815682         210         NaN         NaN         NaN\n",
      "1  8904223815859         165         NaN         NaN         NaN\n",
      "2  8904223815866         113         NaN         NaN         NaN\n",
      "3  8904223815873          65         NaN         NaN         NaN\n",
      "4  8904223816214         120         NaN         NaN         NaN\n",
      "\n",
      "Pincode Mapping : \n",
      "\n",
      "Courier Invoice:\n",
      "        AWB Code    Order ID  Charged Weight  Warehouse Pincode  \\\n",
      "0  1091117222124  2001806232            1.30             121003   \n",
      "1  1091117222194  2001806273            1.00             121003   \n",
      "2  1091117222931  2001806408            2.50             121003   \n",
      "3  1091117223244  2001806458            1.00             121003   \n",
      "4  1091117229345  2001807012            0.15             121003   \n",
      "\n",
      "   Customer Pincode Zone Type of Shipment  Billing Amount (Rs.)  \n",
      "0            507101    d  Forward charges                 135.0  \n",
      "1            486886    d  Forward charges                  90.2  \n",
      "2            532484    d  Forward charges                 224.6  \n",
      "3            143001    b  Forward charges                  61.3  \n",
      "4            515591    d  Forward charges                  45.4  \n",
      "\n",
      "Courier Company rates:\n",
      "   fwd_a_fixed  fwd_a_additional  fwd_b_fixed  fwd_b_additional  fwd_c_fixed  \\\n",
      "0         29.5              23.6           33              28.3         40.1   \n",
      "\n",
      "   fwd_c_additional  fwd_d_fixed  fwd_d_additional  fwd_e_fixed  \\\n",
      "0              38.9         45.4              44.8         56.6   \n",
      "\n",
      "   fwd_e_additional  rto_a_fixed  rto_a_additional  rto_b_fixed  \\\n",
      "0              55.5         13.6              23.6         20.5   \n",
      "\n",
      "   rto_b_additional  rto_c_fixed  rto_c_additional  rto_d_fixed  \\\n",
      "0              28.3         31.9              38.9         41.3   \n",
      "\n",
      "   rto_d_additional  rto_e_fixed  rto_e_additional  \n",
      "0              44.8         50.7              55.5  \n"
     ]
    }
   ],
   "source": [
    "print(\"Order Report:\")\n",
    "print(order_report.head())\n",
    "print(\"\\nSKU Master : \")\n",
    "print(sku_master.head())\n",
    "print(\"\\nPincode Mapping : \")\n",
    "print(\"\\nCourier Invoice:\")\n",
    "print(courier_invoice.head())\n",
    "print(\"\\nCourier Company rates:\")\n",
    "print(courier_company_rates.head())"
   ]
  },
  {
   "cell_type": "code",
   "execution_count": 5,
   "id": "e0eb29f9",
   "metadata": {},
   "outputs": [],
   "source": [
    "#check for missing values\n"
   ]
  },
  {
   "cell_type": "code",
   "execution_count": 6,
   "id": "b380e2d5",
   "metadata": {},
   "outputs": [
    {
     "name": "stdout",
     "output_type": "stream",
     "text": [
      "\n",
      "Missing values in website order Report :\n",
      "ExternOrderNo      0\n",
      "SKU                0\n",
      "Order Qty          0\n",
      "Unnamed: 3       400\n",
      "Unnamed: 4       400\n",
      "dtype: int64\n",
      "\n",
      "Missing values in SKU Master :\n",
      "SKU            0\n",
      "Weight (g)     0\n",
      "Unnamed: 2    66\n",
      "Unnamed: 3    66\n",
      "Unnamed: 4    66\n",
      "dtype: int64\n",
      "\n",
      "Missing values in Pincode Mapping:\n",
      "Warehouse Pincode      0\n",
      "Customer Pincode       0\n",
      "Zone                   0\n",
      "Unnamed: 3           124\n",
      "Unnamed: 4           124\n",
      "dtype: int64\n",
      "\n",
      "Missing values in Courier Invoice:\n",
      "AWB Code                0\n",
      "Order ID                0\n",
      "Charged Weight          0\n",
      "Warehouse Pincode       0\n",
      "Customer Pincode        0\n",
      "Zone                    0\n",
      "Type of Shipment        0\n",
      "Billing Amount (Rs.)    0\n",
      "dtype: int64\n",
      "\n",
      "Missing values in courier company rates:\n",
      "fwd_a_fixed         0\n",
      "fwd_a_additional    0\n",
      "fwd_b_fixed         0\n",
      "fwd_b_additional    0\n",
      "fwd_c_fixed         0\n",
      "fwd_c_additional    0\n",
      "fwd_d_fixed         0\n",
      "fwd_d_additional    0\n",
      "fwd_e_fixed         0\n",
      "fwd_e_additional    0\n",
      "rto_a_fixed         0\n",
      "rto_a_additional    0\n",
      "rto_b_fixed         0\n",
      "rto_b_additional    0\n",
      "rto_c_fixed         0\n",
      "rto_c_additional    0\n",
      "rto_d_fixed         0\n",
      "rto_d_additional    0\n",
      "rto_e_fixed         0\n",
      "rto_e_additional    0\n",
      "dtype: int64\n"
     ]
    }
   ],
   "source": [
    "print(\"\\nMissing values in website order Report :\")\n",
    "print(order_report.isnull().sum())\n",
    "print(\"\\nMissing values in SKU Master :\")\n",
    "print(sku_master.isnull().sum())\n",
    "print(\"\\nMissing values in Pincode Mapping:\")\n",
    "print(pincode_mapping.isnull().sum())\n",
    "print(\"\\nMissing values in Courier Invoice:\")\n",
    "print(courier_invoice.isnull().sum())\n",
    "print(\"\\nMissing values in courier company rates:\")\n",
    "print(courier_company_rates.isnull().sum())\n"
   ]
  },
  {
   "cell_type": "code",
   "execution_count": 7,
   "id": "52396823",
   "metadata": {},
   "outputs": [],
   "source": [
    "#cleaning the data\n"
   ]
  },
  {
   "cell_type": "code",
   "execution_count": 10,
   "id": "6e73f371",
   "metadata": {},
   "outputs": [],
   "source": [
    "#remove unnamed columns from website order report\n",
    "order_report = order_report.drop(columns=['Unnamed: 3', 'Unnamed: 4'])\n",
    "\n",
    "sku_master = sku_master.drop(columns=['Unnamed: 2', 'Unnamed: 3', 'Unnamed: 4'])\n",
    "pincode_mapping = pincode_mapping.drop(columns=['Unnamed: 3', 'Unnamed: 4'])"
   ]
  },
  {
   "cell_type": "code",
   "execution_count": 11,
   "id": "fe1eb5d8",
   "metadata": {},
   "outputs": [],
   "source": [
    "#we'll merge the order report and sku master "
   ]
  },
  {
   "cell_type": "code",
   "execution_count": 12,
   "id": "f3adac07",
   "metadata": {},
   "outputs": [
    {
     "name": "stdout",
     "output_type": "stream",
     "text": [
      "   ExternOrderNo            SKU  Order Qty  Weight (g)\n",
      "0     2001827036  8904223818706        1.0         127\n",
      "1     2001821995  8904223818706        1.0         127\n",
      "2     2001819252  8904223818706        1.0         127\n",
      "3     2001816996  8904223818706        1.0         127\n",
      "4     2001814580  8904223818706        1.0         127\n"
     ]
    }
   ],
   "source": [
    "merged_data = pd.merge(order_report,sku_master,on='SKU')\n",
    "print(merged_data.head())"
   ]
  },
  {
   "cell_type": "code",
   "execution_count": 13,
   "id": "1b64996c",
   "metadata": {},
   "outputs": [],
   "source": [
    "#here ecternorder is Order ID \n",
    "#lets rename it "
   ]
  },
  {
   "cell_type": "code",
   "execution_count": 23,
   "id": "632158a6",
   "metadata": {},
   "outputs": [],
   "source": [
    "merged_data = merged_data.rename(columns={'ExternOrderNo': 'Order ID'})"
   ]
  },
  {
   "cell_type": "code",
   "execution_count": 24,
   "id": "543b396d",
   "metadata": {},
   "outputs": [],
   "source": [
    "#now merge courier invoice and pincode mapping"
   ]
  },
  {
   "cell_type": "code",
   "execution_count": 25,
   "id": "b9bdd8c4",
   "metadata": {},
   "outputs": [
    {
     "name": "stdout",
     "output_type": "stream",
     "text": [
      "     Order ID  Customer Pincode Type of Shipment  Warehouse Pincode Zone\n",
      "0  2001806232            507101  Forward charges             121003    d\n",
      "1  2001806273            486886  Forward charges             121003    d\n",
      "2  2001806408            532484  Forward charges             121003    d\n",
      "3  2001806458            143001  Forward charges             121003    b\n",
      "4  2001807012            515591  Forward charges             121003    d\n"
     ]
    }
   ],
   "source": [
    "abc_courier = pincode_mapping.drop_duplicates(subset=['Customer Pincode'])\n",
    "courier_invoices = courier_invoice[['Order ID','Customer Pincode','Type of Shipment']]\n",
    "pincodes = courier_invoices.merge(abc_courier, on ='Customer Pincode' )\n",
    "print(pincodes.head())"
   ]
  },
  {
   "cell_type": "code",
   "execution_count": 26,
   "id": "415eb374",
   "metadata": {},
   "outputs": [],
   "source": [
    "#now merge piccodes with merged_data"
   ]
  },
  {
   "cell_type": "code",
   "execution_count": 27,
   "id": "444258ea",
   "metadata": {},
   "outputs": [],
   "source": [
    "merged2 = merged_data.merge(pincodes,on='Order ID')"
   ]
  },
  {
   "cell_type": "code",
   "execution_count": 28,
   "id": "cf6450a3",
   "metadata": {},
   "outputs": [],
   "source": [
    "#we'll calculatle the weight in kilograms by dividing weight column by 1000"
   ]
  },
  {
   "cell_type": "code",
   "execution_count": 29,
   "id": "757763cd",
   "metadata": {},
   "outputs": [],
   "source": [
    "merged2['Weights (Kgs)'] = merged2['Weight (g)'] / 1000"
   ]
  },
  {
   "cell_type": "code",
   "execution_count": 30,
   "id": "12f75c6d",
   "metadata": {},
   "outputs": [],
   "source": [
    "#we will calculate weight slabs :\n"
   ]
  },
  {
   "cell_type": "code",
   "execution_count": 31,
   "id": "eb308e62",
   "metadata": {},
   "outputs": [],
   "source": [
    "def weight_slab(weight):\n",
    "    i = round(weight % 1, 1)\n",
    "    if i == 0.0:\n",
    "        return weight\n",
    "    elif i > 0.5:\n",
    "        return int(weight) + 1.0\n",
    "    else:\n",
    "        return int(weight) + 0.5\n",
    "    \n",
    "\n",
    "merged2['Weight Slab (KG)'] = merged2['Weights (Kgs)'].apply(weight_slab)\n",
    "courier_invoice['Weight Slab Charged by Courier Company']=(courier_invoice['Charged Weight']).apply(weight_slab)"
   ]
  },
  {
   "cell_type": "code",
   "execution_count": 32,
   "id": "b48a1233",
   "metadata": {},
   "outputs": [],
   "source": [
    "#rename the column to prepare dataframe we want \n"
   ]
  },
  {
   "cell_type": "code",
   "execution_count": 33,
   "id": "ca56b740",
   "metadata": {},
   "outputs": [],
   "source": [
    "courier_invoice = courier_invoice.rename(columns={'Zone': 'Delivery Zone Charged by Courier Company'})\n",
    "merged2 = merged2.rename(columns={'Zone': 'Delivery Zone As Per ABC'})\n",
    "merged2 = merged2.rename(columns={'Weight Slab (KG)': 'Weight Slab As Per ABC'})"
   ]
  },
  {
   "cell_type": "code",
   "execution_count": 34,
   "id": "73a79e5d",
   "metadata": {},
   "outputs": [],
   "source": [
    "#calculate  expected charges "
   ]
  },
  {
   "cell_type": "code",
   "execution_count": 35,
   "id": "a0c94580",
   "metadata": {},
   "outputs": [
    {
     "name": "stdout",
     "output_type": "stream",
     "text": [
      "     Order ID            SKU  Order Qty  Weight (g)  Customer Pincode  \\\n",
      "0  2001827036  8904223818706        1.0         127            173213   \n",
      "1  2001827036  8904223819093        1.0         150            173213   \n",
      "2  2001827036  8904223819109        1.0         100            173213   \n",
      "3  2001827036  8904223818430        1.0         165            173213   \n",
      "4  2001827036  8904223819277        1.0         350            173213   \n",
      "\n",
      "  Type of Shipment  Warehouse Pincode Delivery Zone As Per ABC  Weights (Kgs)  \\\n",
      "0  Forward charges             121003                        e          0.127   \n",
      "1  Forward charges             121003                        e          0.150   \n",
      "2  Forward charges             121003                        e          0.100   \n",
      "3  Forward charges             121003                        e          0.165   \n",
      "4  Forward charges             121003                        e          0.350   \n",
      "\n",
      "   Weight Slab As Per ABC  Expected Charge as per ABC  \n",
      "0                     0.5                        56.6  \n",
      "1                     0.5                        56.6  \n",
      "2                     0.5                        56.6  \n",
      "3                     0.5                        56.6  \n",
      "4                     0.5                        56.6  \n"
     ]
    }
   ],
   "source": [
    "total_expected_charge = []\n",
    "for _, row in merged2.iterrows():\n",
    "    fwd_category = 'fwd_' + row['Delivery Zone As Per ABC']\n",
    "    fwd_fixed = courier_company_rates.at[0, fwd_category + '_fixed']\n",
    "    fwd_additional = courier_company_rates.at[0, fwd_category + '_additional']\n",
    "    rto_category = 'rto_' + row['Delivery Zone As Per ABC']\n",
    "    rto_fixed = courier_company_rates.at[0, rto_category + '_fixed']\n",
    "    rto_additional = courier_company_rates.at[0, rto_category + '_additional']\n",
    "\n",
    "    weight_slab = row['Weight Slab As Per ABC']\n",
    "\n",
    "    if row['Type of Shipment'] == 'Forward charges':\n",
    "        additional_weight = max(0, (weight_slab - 0.5) / 0.5)\n",
    "        total_expected_charge.append(fwd_fixed + additional_weight * fwd_additional)\n",
    "    elif row['Type of Shipment'] == 'Forward and RTO charges':\n",
    "        additional_weight = max(0, (weight_slab - 0.5) / 0.5)\n",
    "        total_expected_charge.append(fwd_fixed + additional_weight * (fwd_additional + rto_additional))\n",
    "    else:\n",
    "        total_expected_charge.append(0)\n",
    "\n",
    "merged2['Expected Charge as per ABC'] = total_expected_charge\n",
    "print(merged2.head())"
   ]
  },
  {
   "cell_type": "code",
   "execution_count": 36,
   "id": "79cb10e5",
   "metadata": {},
   "outputs": [],
   "source": [
    "#well merge it with the courier invoice to display final dataframe "
   ]
  },
  {
   "cell_type": "code",
   "execution_count": 38,
   "id": "b44d8eb4",
   "metadata": {},
   "outputs": [
    {
     "name": "stdout",
     "output_type": "stream",
     "text": [
      "     Order ID            SKU  Order Qty  Weight (g)  Customer Pincode_x  \\\n",
      "0  2001827036  8904223818706        1.0         127              173213   \n",
      "1  2001827036  8904223819093        1.0         150              173213   \n",
      "2  2001827036  8904223819109        1.0         100              173213   \n",
      "3  2001827036  8904223818430        1.0         165              173213   \n",
      "4  2001827036  8904223819277        1.0         350              173213   \n",
      "\n",
      "  Type of Shipment_x  Warehouse Pincode_x Delivery Zone As Per ABC  \\\n",
      "0    Forward charges               121003                        e   \n",
      "1    Forward charges               121003                        e   \n",
      "2    Forward charges               121003                        e   \n",
      "3    Forward charges               121003                        e   \n",
      "4    Forward charges               121003                        e   \n",
      "\n",
      "   Weights (Kgs)  Weight Slab As Per ABC  Expected Charge as per ABC  \\\n",
      "0          0.127                     0.5                        56.6   \n",
      "1          0.150                     0.5                        56.6   \n",
      "2          0.100                     0.5                        56.6   \n",
      "3          0.165                     0.5                        56.6   \n",
      "4          0.350                     0.5                        56.6   \n",
      "\n",
      "        AWB Code  Charged Weight  Warehouse Pincode_y  Customer Pincode_y  \\\n",
      "0  1091122418320             1.6               121003              173213   \n",
      "1  1091122418320             1.6               121003              173213   \n",
      "2  1091122418320             1.6               121003              173213   \n",
      "3  1091122418320             1.6               121003              173213   \n",
      "4  1091122418320             1.6               121003              173213   \n",
      "\n",
      "  Delivery Zone Charged by Courier Company Type of Shipment_y  \\\n",
      "0                                        b    Forward charges   \n",
      "1                                        b    Forward charges   \n",
      "2                                        b    Forward charges   \n",
      "3                                        b    Forward charges   \n",
      "4                                        b    Forward charges   \n",
      "\n",
      "   Billing Amount (Rs.)  Weight Slab Charged by Courier Company  \n",
      "0                 117.9                                     2.0  \n",
      "1                 117.9                                     2.0  \n",
      "2                 117.9                                     2.0  \n",
      "3                 117.9                                     2.0  \n",
      "4                 117.9                                     2.0  \n"
     ]
    }
   ],
   "source": [
    "merged_output = merged2.merge(courier_invoice, on = 'Order ID')\n",
    "print(merged_output.head())"
   ]
  },
  {
   "cell_type": "code",
   "execution_count": 39,
   "id": "af9fa99d",
   "metadata": {},
   "outputs": [
    {
     "name": "stdout",
     "output_type": "stream",
     "text": [
      "     Order ID  Difference (Rs.)  Expected Charge as per ABC\n",
      "0  2001827036              61.3                        56.6\n",
      "1  2001827036              61.3                        56.6\n",
      "2  2001827036              61.3                        56.6\n",
      "3  2001827036              61.3                        56.6\n",
      "4  2001827036              61.3                        56.6\n"
     ]
    }
   ],
   "source": [
    "df_diff = merged_output\n",
    "df_diff['Difference (Rs.)'] = df_diff['Billing Amount (Rs.)'] - df_diff['Expected Charge as per ABC']\n",
    "\n",
    "df_new = df_diff[['Order ID', 'Difference (Rs.)', 'Expected Charge as per ABC']]\n",
    "\n",
    "print(df_new.head())"
   ]
  },
  {
   "cell_type": "code",
   "execution_count": 40,
   "id": "c7613df3",
   "metadata": {},
   "outputs": [],
   "source": [
    "#now summarize the accuracy of B2B courier charges "
   ]
  },
  {
   "cell_type": "code",
   "execution_count": 47,
   "id": "2c08d0de",
   "metadata": {
    "scrolled": true
   },
   "outputs": [
    {
     "name": "stdout",
     "output_type": "stream",
     "text": [
      "                                         Description  Count  Amount (Rs.)\n",
      "0  Total Orders where ABC has been correctly charged     12         507.6\n",
      "1        Total Orders where ABC has been overcharged    382       33750.5\n",
      "2       Total Orders where ABC has been undercharged      7        -165.2\n"
     ]
    }
   ],
   "source": [
    "# Calculate the total orders in each category\n",
    "total_correctly_charged = len(df_new[df_new['Difference (Rs.)'] == 0])\n",
    "total_overcharged = len(df_new[df_new['Difference (Rs.)'] > 0])\n",
    "total_undercharged = len(df_new[df_new['Difference (Rs.)'] < 0])\n",
    "\n",
    "\n",
    "# Calculate the total amount in each category\n",
    "amount_overcharged = abs(df_new[df_new['Difference (Rs.)'] > 0]['Difference (Rs.)'].sum())\n",
    "amount_undercharged = df_new[df_new['Difference (Rs.)'] < 0]['Difference (Rs.)'].sum()\n",
    "amount_correctly_charged = df_new[df_new['Difference (Rs.)'] == 0]['Expected Charge as per ABC'].sum()\n",
    "\n",
    "# Create a new DataFrame for the summary\n",
    "summary_data = {'Description': ['Total Orders where ABC has been correctly charged',\n",
    "                                'Total Orders where ABC has been overcharged',\n",
    "                                'Total Orders where ABC has been undercharged'],\n",
    "                'Count': [total_correctly_charged, total_overcharged, total_undercharged],\n",
    "                'Amount (Rs.)': [amount_correctly_charged, amount_overcharged, amount_undercharged]}\n",
    "\n",
    "df_summary = pd.DataFrame(summary_data)\n",
    "\n",
    "print(df_summary)"
   ]
  },
  {
   "cell_type": "code",
   "execution_count": 48,
   "id": "9a25ebba",
   "metadata": {},
   "outputs": [],
   "source": [
    "import matplotlib.pyplot as plt"
   ]
  },
  {
   "cell_type": "code",
   "execution_count": null,
   "id": "ac23c6ac",
   "metadata": {},
   "outputs": [],
   "source": []
  },
  {
   "cell_type": "code",
   "execution_count": 54,
   "id": "e3e2edf5",
   "metadata": {},
   "outputs": [
    {
     "data": {
      "image/png": "[encoded data removed]",
      "text/plain": [
       "<Figure size 576x576 with 1 Axes>"
      ]
     },
     "metadata": {},
     "output_type": "display_data"
    }
   ],
   "source": [
    "plt.figure(figsize=(8, 8))\n",
    "plt.pie(df_summary['Count'], labels=df_summary['Description'], autopct='%1.1f%%')\n",
    "plt.title('Summary')\n",
    "plt.legend(bbox_to_anchor=(1, 1), loc='upper left')\n",
    "plt.show()"
   ]
  },
  {
   "cell_type": "markdown",
   "id": "a42a02a5",
   "metadata": {},
   "source": [
    "The overall summary shows that ABC has overcharged most of orders"
   ]
  }
 ],
 "metadata": {
  "kernelspec": {
   "display_name": "Python 3 (ipykernel)",
   "language": "python",
   "name": "python3"
  },
  "language_info": {
   "codemirror_mode": {
    "name": "ipython",
    "version": 3
   },
   "file_extension": ".py",
   "mimetype": "text/x-python",
   "name": "python",
   "nbconvert_exporter": "python",
   "pygments_lexer": "ipython3",
   "version": "3.9.12"
  }
 },
 "nbformat": 4,
 "nbformat_minor": 5
}
